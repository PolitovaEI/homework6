{
 "cells": [
  {
   "cell_type": "code",
   "execution_count": 1,
   "metadata": {},
   "outputs": [],
   "source": [
    "import numpy as np\n",
    "from sklearn.datasets import fetch_20newsgroups\n",
    "\n",
    "newsgroups_train = fetch_20newsgroups(subset='train', remove=('headers', 'footers', 'quotes'))"
   ]
  },
  {
   "cell_type": "code",
   "execution_count": 2,
   "metadata": {},
   "outputs": [],
   "source": [
    "from sklearn.metrics import classification_report\n"
   ]
  },
  {
   "cell_type": "code",
   "execution_count": 3,
   "metadata": {},
   "outputs": [],
   "source": [
    "from sklearn.feature_extraction.stop_words import ENGLISH_STOP_WORDS\n",
    "from sklearn.feature_extraction.text import TfidfVectorizer\n",
    "\n",
    "vectorizer = TfidfVectorizer(stop_words = ENGLISH_STOP_WORDS).fit(newsgroups_train.data)\n",
    "X_train_vectors = vectorizer.transform(newsgroups_train.data)"
   ]
  },
  {
   "cell_type": "code",
   "execution_count": 4,
   "metadata": {},
   "outputs": [],
   "source": [
    "from sklearn.naive_bayes import ComplementNB\n",
    "\n",
    "clf = ComplementNB(alpha=0.4, class_prior=None, fit_prior=False, norm=False).fit(X_train_vectors, newsgroups_train.target)"
   ]
  },
  {
   "cell_type": "code",
   "execution_count": 5,
   "metadata": {},
   "outputs": [
    {
     "name": "stdout",
     "output_type": "stream",
     "text": [
      "                          precision    recall  f1-score   support\n",
      "\n",
      "             alt.atheism       0.32      0.46      0.38       319\n",
      "           comp.graphics       0.73      0.71      0.72       389\n",
      " comp.os.ms-windows.misc       0.72      0.59      0.65       394\n",
      "comp.sys.ibm.pc.hardware       0.63      0.70      0.67       392\n",
      "   comp.sys.mac.hardware       0.76      0.72      0.74       385\n",
      "          comp.windows.x       0.82      0.79      0.80       395\n",
      "            misc.forsale       0.75      0.72      0.73       390\n",
      "               rec.autos       0.81      0.75      0.78       396\n",
      "         rec.motorcycles       0.83      0.78      0.80       398\n",
      "      rec.sport.baseball       0.93      0.84      0.88       397\n",
      "        rec.sport.hockey       0.85      0.95      0.90       399\n",
      "               sci.crypt       0.76      0.80      0.78       396\n",
      "         sci.electronics       0.71      0.56      0.62       393\n",
      "                 sci.med       0.80      0.79      0.79       396\n",
      "               sci.space       0.78      0.81      0.80       394\n",
      "  soc.religion.christian       0.57      0.88      0.69       398\n",
      "      talk.politics.guns       0.59      0.73      0.65       364\n",
      "   talk.politics.mideast       0.79      0.85      0.82       376\n",
      "      talk.politics.misc       0.66      0.43      0.52       310\n",
      "      talk.religion.misc       0.47      0.15      0.23       251\n",
      "\n",
      "               micro avg       0.72      0.72      0.72      7532\n",
      "               macro avg       0.71      0.70      0.70      7532\n",
      "            weighted avg       0.72      0.72      0.71      7532\n",
      "\n"
     ]
    }
   ],
   "source": [
    "newsgroups_test = fetch_20newsgroups(subset='test', remove=('headers', 'footers', 'quotes'))\n",
    "X_test_vectors = vectorizer.transform(newsgroups_test.data)\n",
    "predicts = clf.predict(X_test_vectors)\n",
    "print(classification_report(newsgroups_test.target, predicts,\n",
    "                            target_names=newsgroups_test.target_names))\n"
   ]
  },
  {
   "cell_type": "code",
   "execution_count": null,
   "metadata": {},
   "outputs": [],
   "source": []
  }
 ],
 "metadata": {
  "kernelspec": {
   "display_name": "Python 3",
   "language": "python",
   "name": "python3"
  },
  "language_info": {
   "codemirror_mode": {
    "name": "ipython",
    "version": 3
   },
   "file_extension": ".py",
   "mimetype": "text/x-python",
   "name": "python",
   "nbconvert_exporter": "python",
   "pygments_lexer": "ipython3",
   "version": "3.7.1"
  }
 },
 "nbformat": 4,
 "nbformat_minor": 2
}
